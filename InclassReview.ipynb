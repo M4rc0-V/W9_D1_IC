{
 "cells": [
  {
   "cell_type": "code",
   "execution_count": 1,
   "id": "42e13930",
   "metadata": {},
   "outputs": [
    {
     "data": {
      "text/plain": [
       "'C:\\\\Users\\\\Marco\\\\Documents\\\\Coding Temple\\\\Week9\\\\Day1'"
      ]
     },
     "execution_count": 1,
     "metadata": {},
     "output_type": "execute_result"
    }
   ],
   "source": [
    "pwd"
   ]
  },
  {
   "cell_type": "code",
   "execution_count": 3,
   "id": "777fcabc",
   "metadata": {},
   "outputs": [],
   "source": [
    "bob_saget = {\n",
    "    \"id\":1,\n",
    "    \"first_name\": \"robert\",\n",
    "    \"last_name\":\"saget\",\n",
    "    \"age\":65,\n",
    "    \"deceased\": True,\n",
    "    \"films\":[\"Spaced Out\", \"Half Baked\", \"Madagascar\"],\n",
    "    \"television\":[\"Full House\", \"American's Funniest Home Video\", \"How I Met Your Mother\"],\n",
    "    \"wife\":{\n",
    "        \"name\":\"Sherri Kramer\",\n",
    "        \"age\":41,\n",
    "        \"deceased\": True,\n",
    "        \"children\":[\"Aubrey Saget\", \"Lara Saget\",\"Jennifer Saget\"]\n",
    "    }\n",
    "\n",
    "}"
   ]
  },
  {
   "cell_type": "markdown",
   "id": "139d25ee",
   "metadata": {},
   "source": [
    "## Print \"Robert Saget\""
   ]
  },
  {
   "cell_type": "code",
   "execution_count": 114,
   "id": "bc523d66",
   "metadata": {},
   "outputs": [
    {
     "name": "stdout",
     "output_type": "stream",
     "text": [
      "Robert Saget\n"
     ]
    }
   ],
   "source": [
    "print(bob_saget[\"first_name\"].title() + ' ' + bob_saget[\"last_name\"].title())"
   ]
  },
  {
   "cell_type": "markdown",
   "id": "7723d3ee",
   "metadata": {},
   "source": [
    "## Print \"True\""
   ]
  },
  {
   "cell_type": "code",
   "execution_count": 5,
   "id": "ba9edab0",
   "metadata": {},
   "outputs": [
    {
     "name": "stdout",
     "output_type": "stream",
     "text": [
      "True\n"
     ]
    }
   ],
   "source": [
    "print(bob_saget[\"deceased\"])"
   ]
  },
  {
   "cell_type": "markdown",
   "id": "d73b6847",
   "metadata": {},
   "source": [
    "## Print American's Funniest Home Video\""
   ]
  },
  {
   "cell_type": "code",
   "execution_count": 7,
   "id": "7cd41824",
   "metadata": {},
   "outputs": [
    {
     "name": "stdout",
     "output_type": "stream",
     "text": [
      "American's Funniest Home Video\n"
     ]
    }
   ],
   "source": [
    "print(bob_saget[\"television\"][1])"
   ]
  },
  {
   "cell_type": "markdown",
   "id": "218b050b",
   "metadata": {},
   "source": [
    "## Print Bob was in Spaced Out, Half Baked, Madascar"
   ]
  },
  {
   "cell_type": "code",
   "execution_count": 119,
   "id": "2e032890",
   "metadata": {},
   "outputs": [
    {
     "name": "stdout",
     "output_type": "stream",
     "text": [
      "Bob was in Spaced Out, Half Baked, Madagascar\n"
     ]
    }
   ],
   "source": [
    "print('Bob was in ' + ', '.join(bob_saget[\"films\"]))"
   ]
  },
  {
   "cell_type": "markdown",
   "id": "d726082d",
   "metadata": {},
   "source": [
    "## Print Sherri had 3 kids: Aubrey Lara and Jennifer"
   ]
  },
  {
   "cell_type": "code",
   "execution_count": 27,
   "id": "ae2c66f7",
   "metadata": {},
   "outputs": [
    {
     "name": "stdout",
     "output_type": "stream",
     "text": [
      "Sheri had 3 kids: Aubrey Lara and Jennifer\n"
     ]
    }
   ],
   "source": [
    "print(f\"Sheri had 3 kids: {bob_saget['wife']['children'][0][:6]} {bob_saget['wife']['children'][1][:4]} and {bob_saget['wife']['children'][2][:8]}\")"
   ]
  },
  {
   "cell_type": "markdown",
   "id": "083af67d",
   "metadata": {},
   "source": [
    "## Write a function that will accept a person dictionary and return \"That person is Alive\" or \"That person has passed\" in accoradance with the values in the dictionary"
   ]
  },
  {
   "cell_type": "code",
   "execution_count": null,
   "id": "1e3d5591",
   "metadata": {},
   "outputs": [],
   "source": [
    "def dead_or_alive(dict):\n",
    "    return \"That person is Alive\" if dict[\"Deceased\"] == False else \"That person has passed\""
   ]
  },
  {
   "cell_type": "code",
   "execution_count": 91,
   "id": "333abc77",
   "metadata": {},
   "outputs": [],
   "source": [
    "items=[{\n",
    "    \"id\":4,\n",
    "    \"name\":\"Red Sneakers\",\n",
    "    \"desc\":\"I love red shoes\",\n",
    "    \"price\":109.99,\n",
    "    \"category\":\"shoes\",\n",
    "    },\n",
    "    {\n",
    "    \"id\":3,\n",
    "    \"name\":\"Blue Heels\",\n",
    "    \"desc\":\"I Can't walk in these\",\n",
    "    \"price\":69.99,\n",
    "    \"category\":\"shoes\",\n",
    "    }\n",
    "    ,\n",
    "    {\n",
    "    \"id\":2,\n",
    "    \"name\":\"Aerosmith T-Shirt\",\n",
    "    \"desc\":\"Show others you used to have bad taste in music\",\n",
    "    \"price\":4.99,\n",
    "    \"category\":\"shirts\",\n",
    "    }\n",
    "    ,{\n",
    "    \"id\":1,\n",
    "    \"name\":\"Vote for Pedro T\",\n",
    "    \"desc\":\"Napolean Dynomite Theme T\",\n",
    "    \"price\":19.99,\n",
    "    \"category\":\"shirts\",\n",
    "    }\n",
    "    ,{\n",
    "    \"id\":5,\n",
    "    \"name\":\"NY Yankees Hat\",\n",
    "    \"desc\":\"I hate the Red Sox\",\n",
    "    \"price\":24.99,\n",
    "    \"category\":\"hats\",\n",
    "    }\n",
    "    ,{\n",
    "    \"id\":6,\n",
    "    \"name\":\"Cowboy\",\n",
    "    \"desc\":\"Get ready for the ho-down\",\n",
    "    \"price\":49.99,\n",
    "    \"category\":\"hats\",\n",
    "    },\n",
    "    {\n",
    "    \"id\":7,\n",
    "    \"name\":\"Fedora\",\n",
    "    \"desc\":\"The hat not the OS\",\n",
    "    \"price\":16.47,\n",
    "    \"category\":\"hats\",\n",
    "    }]"
   ]
  },
  {
   "cell_type": "markdown",
   "id": "06d14771",
   "metadata": {},
   "source": [
    "## Print all the items in the list surrounded by bars (see example)"
   ]
  },
  {
   "cell_type": "code",
   "execution_count": 121,
   "id": "e2d41008",
   "metadata": {},
   "outputs": [
    {
     "name": "stdout",
     "output_type": "stream",
     "text": [
      "====================\n",
      "| 4\n",
      "====================\n",
      "| Red Sneakers\n",
      "| I love red shoes\n",
      "| 109.99\n",
      "| shoes\n",
      "====================\n",
      "====================\n",
      "| 3\n",
      "====================\n",
      "| Blue Heels\n",
      "| I Can't walk in these\n",
      "| 69.99\n",
      "| shoes\n",
      "====================\n",
      "====================\n",
      "| 2\n",
      "====================\n",
      "| Aerosmith T-Shirt\n",
      "| Show others you used to have bad taste in music\n",
      "| 4.99\n",
      "| shirts\n",
      "====================\n",
      "====================\n",
      "| 5\n",
      "====================\n",
      "| NY Yankees Hat\n",
      "| I hate the Red Sox\n",
      "| 24.99\n",
      "| hats\n",
      "====================\n",
      "====================\n",
      "| 6\n",
      "====================\n",
      "| Cowboy\n",
      "| Get ready for the ho-down\n",
      "| 49.99\n",
      "| hats\n",
      "====================\n",
      "====================\n",
      "| 7\n",
      "====================\n",
      "| Fedora\n",
      "| The hat not the OS\n",
      "| 16.47\n",
      "| hats\n",
      "====================\n"
     ]
    }
   ],
   "source": [
    "#  ===================\n",
    "# |  4\n",
    "# |~~~~~~~~~~~~~~~~~~\n",
    "# |  Red Sneakers\n",
    "# |  I love red shoes\n",
    "# |  $109.99\n",
    "# |  shoes\n",
    "#  ===================\n",
    "#  ===================\n",
    "# |  3\n",
    "# |~~~~~~~~~~~~~~~~~~\n",
    "# |  Blue Heels\n",
    "# |  I Can't walk in these\n",
    "# |  $69.99\n",
    "# |  shoes\n",
    "#  ===================\n",
    "#  ===================\n",
    "# |  2\n",
    "# |~~~~~~~~~~~~~~~~~~\n",
    "# |  Aerosmith T-Shirt\n",
    "# |  Show others you used to have bad taste in music\n",
    "# |  $4.99\n",
    "# |  shirts\n",
    "#  ===================\n",
    "#  ===================\n",
    "# |  1\n",
    "# |~~~~~~~~~~~~~~~~~~\n",
    "# |  Vote for Pedro T\n",
    "# |  Napolean Dynomite Theme T\n",
    "# |  $19.99\n",
    "# |  shirts\n",
    "#  ===================\n",
    "#  ===================\n",
    "# |  5\n",
    "# |~~~~~~~~~~~~~~~~~~\n",
    "# |  NY Yankees Hat\n",
    "# |  I hate the Red Sox\n",
    "# |  $24.99\n",
    "# |  hats\n",
    "#  ===================\n",
    "#  ===================\n",
    "# |  6\n",
    "# |~~~~~~~~~~~~~~~~~~\n",
    "# |  Cowboy\n",
    "# |  Get ready for the ho-down\n",
    "# |  $49.99\n",
    "# |  hats\n",
    "#  ===================\n",
    "#  ===================\n",
    "# |  7\n",
    "# |~~~~~~~~~~~~~~~~~~\n",
    "# |  Fedora\n",
    "# |  The hat not the OS\n",
    "# |  $16.47\n",
    "# |  hats\n",
    "#  ===================\n",
    "for item in items:\n",
    "    print(\"====================\")\n",
    "    print(f\"| {item['id']}\")\n",
    "    print(\"====================\")\n",
    "    print(f\"| {item['name']}\")\n",
    "    print(f\"| {item['desc']}\")\n",
    "    print(f\"| {item['price']}\")\n",
    "    print(f\"| {item['category']}\")\n",
    "    print(\"====================\")"
   ]
  },
  {
   "cell_type": "markdown",
   "id": "cd778f2c",
   "metadata": {},
   "source": [
    "## Print the total price for all the items in the list"
   ]
  },
  {
   "cell_type": "code",
   "execution_count": 74,
   "id": "299cb5fe",
   "metadata": {},
   "outputs": [
    {
     "name": "stdout",
     "output_type": "stream",
     "text": [
      "296.41\n"
     ]
    }
   ],
   "source": [
    "print(round(sum([items[i]['price'] for i in range(len(items))]),6))\n"
   ]
  },
  {
   "cell_type": "markdown",
   "id": "0d8186d0",
   "metadata": {},
   "source": [
    "## Write a function that will print all the items in a certain category:"
   ]
  },
  {
   "cell_type": "code",
   "execution_count": 61,
   "id": "5cf735ba",
   "metadata": {},
   "outputs": [
    {
     "data": {
      "text/plain": [
       "[{'id': 5,\n",
       "  'name': 'NY Yankees Hat',\n",
       "  'desc': 'I hate the Red Sox',\n",
       "  'price': 24.99,\n",
       "  'category': 'hats'},\n",
       " {'id': 6,\n",
       "  'name': 'Cowboy',\n",
       "  'desc': 'Get ready for the ho-down',\n",
       "  'price': 49.99,\n",
       "  'category': 'hats'},\n",
       " {'id': 7,\n",
       "  'name': 'Fedora',\n",
       "  'desc': 'The hat not the OS',\n",
       "  'price': 16.47,\n",
       "  'category': 'hats'}]"
      ]
     },
     "execution_count": 61,
     "metadata": {},
     "output_type": "execute_result"
    }
   ],
   "source": [
    "def get_by_cat(cat):\n",
    "    list = []\n",
    "    for item in items:\n",
    "        if item['category'] == cat:\n",
    "            list.append(item)\n",
    "    return list\n",
    "\n",
    "get_by_cat(\"hats\")"
   ]
  },
  {
   "cell_type": "markdown",
   "id": "672d08ac",
   "metadata": {},
   "source": [
    "## Write a function to change the category for everything in shoes and everything in hats and put them in a new category called accessories"
   ]
  },
  {
   "cell_type": "code",
   "execution_count": 64,
   "id": "05010f8a",
   "metadata": {},
   "outputs": [
    {
     "data": {
      "text/plain": [
       "[{'id': 4,\n",
       "  'name': 'Red Sneakers',\n",
       "  'desc': 'I love red shoes',\n",
       "  'price': 109.99,\n",
       "  'category': 'accessories'},\n",
       " {'id': 3,\n",
       "  'name': 'Blue Heels',\n",
       "  'desc': \"I Can't walk in these\",\n",
       "  'price': 69.99,\n",
       "  'category': 'accessories'},\n",
       " {'id': 2,\n",
       "  'name': 'Aerosmith T-Shirt',\n",
       "  'desc': 'Show others you used to have bad taste in music',\n",
       "  'price': 4.99,\n",
       "  'category': 'shirts'},\n",
       " {'id': 1,\n",
       "  'name': 'Vote for Pedro T',\n",
       "  'desc': 'Napolean Dynomite Theme T',\n",
       "  'price': 19.99,\n",
       "  'category': 'shirts'},\n",
       " {'id': 5,\n",
       "  'name': 'NY Yankees Hat',\n",
       "  'desc': 'I hate the Red Sox',\n",
       "  'price': 24.99,\n",
       "  'category': 'accessories'},\n",
       " {'id': 6,\n",
       "  'name': 'Cowboy',\n",
       "  'desc': 'Get ready for the ho-down',\n",
       "  'price': 49.99,\n",
       "  'category': 'accessories'},\n",
       " {'id': 7,\n",
       "  'name': 'Fedora',\n",
       "  'desc': 'The hat not the OS',\n",
       "  'price': 16.47,\n",
       "  'category': 'accessories'}]"
      ]
     },
     "execution_count": 64,
     "metadata": {},
     "output_type": "execute_result"
    }
   ],
   "source": [
    "def make_assessories():\n",
    "    for item in items:\n",
    "        if item['category'] == 'hats' or item['category'] == 'shoes':\n",
    "            item['category'] = 'accessories'\n",
    "    return items\n",
    "    \n",
    "make_assessories()\n",
    "    "
   ]
  },
  {
   "cell_type": "markdown",
   "id": "3126d6f8",
   "metadata": {},
   "source": [
    "# Filter the list for all items over the price of 19.99"
   ]
  },
  {
   "cell_type": "code",
   "execution_count": 66,
   "id": "b26e1285",
   "metadata": {},
   "outputs": [
    {
     "name": "stdout",
     "output_type": "stream",
     "text": [
      "[{'id': 4, 'name': 'Red Sneakers', 'desc': 'I love red shoes', 'price': 109.99, 'category': 'accessories'}, {'id': 3, 'name': 'Blue Heels', 'desc': \"I Can't walk in these\", 'price': 69.99, 'category': 'accessories'}, {'id': 5, 'name': 'NY Yankees Hat', 'desc': 'I hate the Red Sox', 'price': 24.99, 'category': 'accessories'}, {'id': 6, 'name': 'Cowboy', 'desc': 'Get ready for the ho-down', 'price': 49.99, 'category': 'accessories'}]\n"
     ]
    }
   ],
   "source": [
    "print(list(filter(lambda item: item['price'] > 19.99,items)))"
   ]
  },
  {
   "cell_type": "markdown",
   "id": "27da6a6d",
   "metadata": {},
   "source": [
    "# Print every letter the the description of the Fedora Hat on a new line"
   ]
  },
  {
   "cell_type": "code",
   "execution_count": 85,
   "id": "7b3aab20",
   "metadata": {},
   "outputs": [
    {
     "name": "stdout",
     "output_type": "stream",
     "text": [
      "T\n",
      "h\n",
      "e\n",
      " \n",
      "h\n",
      "a\n",
      "t\n",
      " \n",
      "n\n",
      "o\n",
      "t\n",
      " \n",
      "t\n",
      "h\n",
      "e\n",
      " \n",
      "O\n",
      "S\n"
     ]
    }
   ],
   "source": [
    "s = ([i for i in items[6][\"desc\"]])\n",
    "for char in s:\n",
    "    print(char)"
   ]
  },
  {
   "cell_type": "markdown",
   "id": "cf30eedd",
   "metadata": {},
   "source": [
    "# Write a function the will accept an item dictionary and remove that item from the list of items"
   ]
  },
  {
   "cell_type": "code",
   "execution_count": 92,
   "id": "338bd4ad",
   "metadata": {},
   "outputs": [
    {
     "data": {
      "text/plain": [
       "[{'id': 4,\n",
       "  'name': 'Red Sneakers',\n",
       "  'desc': 'I love red shoes',\n",
       "  'price': 109.99,\n",
       "  'category': 'shoes'},\n",
       " {'id': 3,\n",
       "  'name': 'Blue Heels',\n",
       "  'desc': \"I Can't walk in these\",\n",
       "  'price': 69.99,\n",
       "  'category': 'shoes'},\n",
       " {'id': 2,\n",
       "  'name': 'Aerosmith T-Shirt',\n",
       "  'desc': 'Show others you used to have bad taste in music',\n",
       "  'price': 4.99,\n",
       "  'category': 'shirts'},\n",
       " {'id': 5,\n",
       "  'name': 'NY Yankees Hat',\n",
       "  'desc': 'I hate the Red Sox',\n",
       "  'price': 24.99,\n",
       "  'category': 'hats'},\n",
       " {'id': 6,\n",
       "  'name': 'Cowboy',\n",
       "  'desc': 'Get ready for the ho-down',\n",
       "  'price': 49.99,\n",
       "  'category': 'hats'},\n",
       " {'id': 7,\n",
       "  'name': 'Fedora',\n",
       "  'desc': 'The hat not the OS',\n",
       "  'price': 16.47,\n",
       "  'category': 'hats'}]"
      ]
     },
     "execution_count": 92,
     "metadata": {},
     "output_type": "execute_result"
    }
   ],
   "source": [
    "def remove_item(item):\n",
    "    del items[items.index(item)]\n",
    "    return items\n",
    "\n",
    "remove_item( {'id': 1,\n",
    "  'name': 'Vote for Pedro T',\n",
    "  'desc': 'Napolean Dynomite Theme T',\n",
    "  'price': 19.99,\n",
    "  'category': 'shirts'})"
   ]
  },
  {
   "cell_type": "code",
   "execution_count": 94,
   "id": "de510f46",
   "metadata": {},
   "outputs": [],
   "source": [
    "class Rapper():\n",
    "    def __init__(self, a, s, n):\n",
    "        self.name = n\n",
    "        self.style = s\n",
    "        self.age = a\n",
    "        self.tracks=[]\n",
    "        self.label = None\n",
    "        \n",
    "    def sign_artist(self, label):\n",
    "        if not self.label:\n",
    "            self.label = label\n",
    "        \n",
    "    def __repr__(self):\n",
    "        return f\"<Rapper: {self.name}| {self.age}>\"\n",
    "        \n",
    "    def rap(self):\n",
    "        return \"\"\"I said-a hip, hop, the hippie, the hippie\n",
    "        To the hip hip hop-a you don't stop the rock\n",
    "        it to the bang-bang boogie, say up jump the boogie\n",
    "        To the rhythm of the boogie, the beat...\n",
    "        \"\"\"\n",
    "    \n",
    "    def drop_label(self):\n",
    "        self.label=None\n",
    "        \n",
    "    def create_song(self, title):\n",
    "        self.tracks.append(title)\n",
    "        \n",
    "    def remove_song_by_track(self,track_number):\n",
    "        del self.tracks[track_number]\n",
    "        \n",
    "    def remove_song_by_title(self,title):\n",
    "        self.tracks.remove(title)\n",
    "        \n",
    "    def __lt__(self, __o):\n",
    "        return self.age < __o.age\n",
    "    \n",
    "    def __gt__(self, __o):\n",
    "        return self.age > __o.age\n",
    "    \n",
    "    def __le__(self, __o):\n",
    "        return self.age <= __o.age\n",
    "    \n",
    "    def __ge__(self, __o):\n",
    "        return self.age >= __o.age\n",
    "    \n",
    "    def __eq__(self,__o):\n",
    "        return self.age == __o.age"
   ]
  },
  {
   "cell_type": "code",
   "execution_count": 124,
   "id": "b5af3622",
   "metadata": {},
   "outputs": [],
   "source": [
    "llcoolj = Rapper(54, \"New School Hip Hop\" ,\"LL Cool J\")\n",
    "tupac  = Rapper(25, \"Gangster Rap\" ,\"Tupac\")\n",
    "lilpump  = Rapper(22, \"Mumble\" ,\"Lil Pump\")\n",
    "youngthug = Rapper(31,\"Trap\",\"Young Thug\")\n",
    "\n",
    "rappers=[tupac, lilpump, llcoolj, youngthug]"
   ]
  },
  {
   "cell_type": "markdown",
   "id": "95d68114",
   "metadata": {},
   "source": [
    "## Give me the total age of all the rappers combined"
   ]
  },
  {
   "cell_type": "code",
   "execution_count": 125,
   "id": "2f76d7a3",
   "metadata": {},
   "outputs": [
    {
     "name": "stdout",
     "output_type": "stream",
     "text": [
      "132\n"
     ]
    }
   ],
   "source": [
    "total = 0\n",
    "for rapper in rappers:\n",
    "    total += rapper.age\n",
    "print(total)"
   ]
  },
  {
   "cell_type": "markdown",
   "id": "03729796",
   "metadata": {},
   "source": [
    "## Sort the list of rappers by age Out Of Place; Oldest to youngest"
   ]
  },
  {
   "cell_type": "code",
   "execution_count": 126,
   "id": "e141a1bd",
   "metadata": {},
   "outputs": [
    {
     "name": "stdout",
     "output_type": "stream",
     "text": [
      "[<Rapper: LL Cool J| 54>, <Rapper: Young Thug| 31>, <Rapper: Tupac| 25>, <Rapper: Lil Pump| 22>]\n"
     ]
    }
   ],
   "source": [
    "print(sorted(rappers, reverse=True))"
   ]
  },
  {
   "cell_type": "markdown",
   "id": "ddf909cd",
   "metadata": {},
   "source": [
    "## have llcoolj sign with 'Def Jam Records' and verify it by printing LL's record label using his object"
   ]
  },
  {
   "cell_type": "code",
   "execution_count": 108,
   "id": "b70b0fac",
   "metadata": {},
   "outputs": [
    {
     "name": "stdout",
     "output_type": "stream",
     "text": [
      "Def Jam Records\n"
     ]
    }
   ],
   "source": [
    "Rapper.drop_label(llcoolj)\n",
    "Rapper.sign_artist(llcoolj,'Def Jam Records')\n",
    "print(llcoolj.label)"
   ]
  },
  {
   "cell_type": "markdown",
   "id": "c0b16bf0",
   "metadata": {},
   "source": [
    "## Now have LL Cool J Drop Def Jam and have him sign with '429' "
   ]
  },
  {
   "cell_type": "code",
   "execution_count": 109,
   "id": "7fd74fbb",
   "metadata": {},
   "outputs": [
    {
     "name": "stdout",
     "output_type": "stream",
     "text": [
      "429\n"
     ]
    }
   ],
   "source": [
    "Rapper.drop_label(llcoolj)\n",
    "Rapper.sign_artist(llcoolj,'429')\n",
    "print(llcoolj.label)"
   ]
  },
  {
   "cell_type": "markdown",
   "id": "86ea9cf2",
   "metadata": {},
   "source": [
    "## Add Songs to Tupac:\n",
    "    add 'Hit em Up'\n",
    "    add 'Ambitionz az a Ridah'\n",
    "    add 'Brenda's got a Baby'\n",
    "    add 'California Love'\n",
    "    add 'All Eyez on Me'\n",
    " Verify by printing track list for tupac"
   ]
  },
  {
   "cell_type": "code",
   "execution_count": 110,
   "id": "7c3999e8",
   "metadata": {},
   "outputs": [
    {
     "name": "stdout",
     "output_type": "stream",
     "text": [
      "['Hit em Up', 'Ambitionz az a Ridah', \"Brenda's got a Baby\", 'California Love', 'All Eyez on Me']\n"
     ]
    }
   ],
   "source": [
    "Rapper.create_song(tupac,'Hit em Up')\n",
    "Rapper.create_song(tupac,'Ambitionz az a Ridah')\n",
    "Rapper.create_song(tupac,\"Brenda's got a Baby\")\n",
    "Rapper.create_song(tupac,'California Love')\n",
    "Rapper.create_song(tupac,'All Eyez on Me')\n",
    "print(tupac.tracks)"
   ]
  },
  {
   "cell_type": "markdown",
   "id": "f7e64fa4",
   "metadata": {},
   "source": [
    "## Remove the 2nd track and verify by printing Tupac Track List"
   ]
  },
  {
   "cell_type": "code",
   "execution_count": 111,
   "id": "a13c5443",
   "metadata": {},
   "outputs": [
    {
     "name": "stdout",
     "output_type": "stream",
     "text": [
      "['Hit em Up', \"Brenda's got a Baby\", 'California Love', 'All Eyez on Me']\n"
     ]
    }
   ],
   "source": [
    "Rapper.remove_song_by_track(tupac,1)\n",
    "print(tupac.tracks)\n"
   ]
  },
  {
   "cell_type": "markdown",
   "id": "0a07cb6e",
   "metadata": {},
   "source": [
    "## Remove the track All Eyez on Me and verify by printing Tupac Track List"
   ]
  },
  {
   "cell_type": "code",
   "execution_count": 112,
   "id": "47937b35",
   "metadata": {},
   "outputs": [
    {
     "name": "stdout",
     "output_type": "stream",
     "text": [
      "['Hit em Up', \"Brenda's got a Baby\", 'California Love']\n"
     ]
    }
   ],
   "source": [
    "Rapper.remove_song_by_title(tupac,'All Eyez on Me')\n",
    "\n",
    "print(tupac.tracks)\n"
   ]
  },
  {
   "cell_type": "code",
   "execution_count": null,
   "id": "13076c3f",
   "metadata": {},
   "outputs": [],
   "source": []
  }
 ],
 "metadata": {
  "kernelspec": {
   "display_name": "Python 3 (ipykernel)",
   "language": "python",
   "name": "python3"
  },
  "language_info": {
   "codemirror_mode": {
    "name": "ipython",
    "version": 3
   },
   "file_extension": ".py",
   "mimetype": "text/x-python",
   "name": "python",
   "nbconvert_exporter": "python",
   "pygments_lexer": "ipython3",
   "version": "3.9.12"
  }
 },
 "nbformat": 4,
 "nbformat_minor": 5
}
